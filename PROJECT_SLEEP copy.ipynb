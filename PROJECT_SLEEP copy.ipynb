{
 "cells": [
  {
   "cell_type": "code",
   "execution_count": 51,
   "id": "6e8ae873",
   "metadata": {},
   "outputs": [],
   "source": [
    "import pandas as pd\n",
    "import scipy.stats as st \n",
    "from scipy.stats import f_oneway\n",
    "import matplotlib.pyplot as plt\n",
    "from scipy.stats import ttest_ind\n",
    "from scipy.stats import chi2_contingency\n",
    "from scipy.stats import pearsonr\n",
    "from scipy.stats import ttest_1samp\n",
    "from scipy.stats import spearmanr"
   ]
  },
  {
   "cell_type": "code",
   "execution_count": 3,
   "id": "032e8af1",
   "metadata": {},
   "outputs": [
    {
     "data": {
      "text/html": [
       "<div>\n",
       "<style scoped>\n",
       "    .dataframe tbody tr th:only-of-type {\n",
       "        vertical-align: middle;\n",
       "    }\n",
       "\n",
       "    .dataframe tbody tr th {\n",
       "        vertical-align: top;\n",
       "    }\n",
       "\n",
       "    .dataframe thead th {\n",
       "        text-align: right;\n",
       "    }\n",
       "</style>\n",
       "<table border=\"1\" class=\"dataframe\">\n",
       "  <thead>\n",
       "    <tr style=\"text-align: right;\">\n",
       "      <th></th>\n",
       "      <th>Person ID</th>\n",
       "      <th>Gender</th>\n",
       "      <th>Age</th>\n",
       "      <th>Occupation</th>\n",
       "      <th>Sleep Duration</th>\n",
       "      <th>Quality of Sleep</th>\n",
       "      <th>Physical Activity Level</th>\n",
       "      <th>Stress Level</th>\n",
       "      <th>BMI Category</th>\n",
       "      <th>Blood Pressure</th>\n",
       "      <th>Heart Rate</th>\n",
       "      <th>Daily Steps</th>\n",
       "      <th>Sleep Disorder</th>\n",
       "    </tr>\n",
       "  </thead>\n",
       "  <tbody>\n",
       "    <tr>\n",
       "      <th>0</th>\n",
       "      <td>1</td>\n",
       "      <td>Male</td>\n",
       "      <td>27</td>\n",
       "      <td>Software Engineer</td>\n",
       "      <td>6.1</td>\n",
       "      <td>6</td>\n",
       "      <td>42</td>\n",
       "      <td>6</td>\n",
       "      <td>Overweight</td>\n",
       "      <td>126/83</td>\n",
       "      <td>77</td>\n",
       "      <td>4200</td>\n",
       "      <td>None</td>\n",
       "    </tr>\n",
       "    <tr>\n",
       "      <th>1</th>\n",
       "      <td>2</td>\n",
       "      <td>Male</td>\n",
       "      <td>28</td>\n",
       "      <td>Doctor</td>\n",
       "      <td>6.2</td>\n",
       "      <td>6</td>\n",
       "      <td>60</td>\n",
       "      <td>8</td>\n",
       "      <td>Normal</td>\n",
       "      <td>125/80</td>\n",
       "      <td>75</td>\n",
       "      <td>10000</td>\n",
       "      <td>None</td>\n",
       "    </tr>\n",
       "    <tr>\n",
       "      <th>2</th>\n",
       "      <td>3</td>\n",
       "      <td>Male</td>\n",
       "      <td>28</td>\n",
       "      <td>Doctor</td>\n",
       "      <td>6.2</td>\n",
       "      <td>6</td>\n",
       "      <td>60</td>\n",
       "      <td>8</td>\n",
       "      <td>Normal</td>\n",
       "      <td>125/80</td>\n",
       "      <td>75</td>\n",
       "      <td>10000</td>\n",
       "      <td>None</td>\n",
       "    </tr>\n",
       "    <tr>\n",
       "      <th>3</th>\n",
       "      <td>4</td>\n",
       "      <td>Male</td>\n",
       "      <td>28</td>\n",
       "      <td>Sales Representative</td>\n",
       "      <td>5.9</td>\n",
       "      <td>4</td>\n",
       "      <td>30</td>\n",
       "      <td>8</td>\n",
       "      <td>Obese</td>\n",
       "      <td>140/90</td>\n",
       "      <td>85</td>\n",
       "      <td>3000</td>\n",
       "      <td>Sleep Apnea</td>\n",
       "    </tr>\n",
       "    <tr>\n",
       "      <th>4</th>\n",
       "      <td>5</td>\n",
       "      <td>Male</td>\n",
       "      <td>28</td>\n",
       "      <td>Sales Representative</td>\n",
       "      <td>5.9</td>\n",
       "      <td>4</td>\n",
       "      <td>30</td>\n",
       "      <td>8</td>\n",
       "      <td>Obese</td>\n",
       "      <td>140/90</td>\n",
       "      <td>85</td>\n",
       "      <td>3000</td>\n",
       "      <td>Sleep Apnea</td>\n",
       "    </tr>\n",
       "    <tr>\n",
       "      <th>...</th>\n",
       "      <td>...</td>\n",
       "      <td>...</td>\n",
       "      <td>...</td>\n",
       "      <td>...</td>\n",
       "      <td>...</td>\n",
       "      <td>...</td>\n",
       "      <td>...</td>\n",
       "      <td>...</td>\n",
       "      <td>...</td>\n",
       "      <td>...</td>\n",
       "      <td>...</td>\n",
       "      <td>...</td>\n",
       "      <td>...</td>\n",
       "    </tr>\n",
       "    <tr>\n",
       "      <th>369</th>\n",
       "      <td>370</td>\n",
       "      <td>Female</td>\n",
       "      <td>59</td>\n",
       "      <td>Nurse</td>\n",
       "      <td>8.1</td>\n",
       "      <td>9</td>\n",
       "      <td>75</td>\n",
       "      <td>3</td>\n",
       "      <td>Overweight</td>\n",
       "      <td>140/95</td>\n",
       "      <td>68</td>\n",
       "      <td>7000</td>\n",
       "      <td>Sleep Apnea</td>\n",
       "    </tr>\n",
       "    <tr>\n",
       "      <th>370</th>\n",
       "      <td>371</td>\n",
       "      <td>Female</td>\n",
       "      <td>59</td>\n",
       "      <td>Nurse</td>\n",
       "      <td>8.0</td>\n",
       "      <td>9</td>\n",
       "      <td>75</td>\n",
       "      <td>3</td>\n",
       "      <td>Overweight</td>\n",
       "      <td>140/95</td>\n",
       "      <td>68</td>\n",
       "      <td>7000</td>\n",
       "      <td>Sleep Apnea</td>\n",
       "    </tr>\n",
       "    <tr>\n",
       "      <th>371</th>\n",
       "      <td>372</td>\n",
       "      <td>Female</td>\n",
       "      <td>59</td>\n",
       "      <td>Nurse</td>\n",
       "      <td>8.1</td>\n",
       "      <td>9</td>\n",
       "      <td>75</td>\n",
       "      <td>3</td>\n",
       "      <td>Overweight</td>\n",
       "      <td>140/95</td>\n",
       "      <td>68</td>\n",
       "      <td>7000</td>\n",
       "      <td>Sleep Apnea</td>\n",
       "    </tr>\n",
       "    <tr>\n",
       "      <th>372</th>\n",
       "      <td>373</td>\n",
       "      <td>Female</td>\n",
       "      <td>59</td>\n",
       "      <td>Nurse</td>\n",
       "      <td>8.1</td>\n",
       "      <td>9</td>\n",
       "      <td>75</td>\n",
       "      <td>3</td>\n",
       "      <td>Overweight</td>\n",
       "      <td>140/95</td>\n",
       "      <td>68</td>\n",
       "      <td>7000</td>\n",
       "      <td>Sleep Apnea</td>\n",
       "    </tr>\n",
       "    <tr>\n",
       "      <th>373</th>\n",
       "      <td>374</td>\n",
       "      <td>Female</td>\n",
       "      <td>59</td>\n",
       "      <td>Nurse</td>\n",
       "      <td>8.1</td>\n",
       "      <td>9</td>\n",
       "      <td>75</td>\n",
       "      <td>3</td>\n",
       "      <td>Overweight</td>\n",
       "      <td>140/95</td>\n",
       "      <td>68</td>\n",
       "      <td>7000</td>\n",
       "      <td>Sleep Apnea</td>\n",
       "    </tr>\n",
       "  </tbody>\n",
       "</table>\n",
       "<p>374 rows × 13 columns</p>\n",
       "</div>"
      ],
      "text/plain": [
       "     Person ID  Gender  Age            Occupation  Sleep Duration  \\\n",
       "0            1    Male   27     Software Engineer             6.1   \n",
       "1            2    Male   28                Doctor             6.2   \n",
       "2            3    Male   28                Doctor             6.2   \n",
       "3            4    Male   28  Sales Representative             5.9   \n",
       "4            5    Male   28  Sales Representative             5.9   \n",
       "..         ...     ...  ...                   ...             ...   \n",
       "369        370  Female   59                 Nurse             8.1   \n",
       "370        371  Female   59                 Nurse             8.0   \n",
       "371        372  Female   59                 Nurse             8.1   \n",
       "372        373  Female   59                 Nurse             8.1   \n",
       "373        374  Female   59                 Nurse             8.1   \n",
       "\n",
       "     Quality of Sleep  Physical Activity Level  Stress Level BMI Category  \\\n",
       "0                   6                       42             6   Overweight   \n",
       "1                   6                       60             8       Normal   \n",
       "2                   6                       60             8       Normal   \n",
       "3                   4                       30             8        Obese   \n",
       "4                   4                       30             8        Obese   \n",
       "..                ...                      ...           ...          ...   \n",
       "369                 9                       75             3   Overweight   \n",
       "370                 9                       75             3   Overweight   \n",
       "371                 9                       75             3   Overweight   \n",
       "372                 9                       75             3   Overweight   \n",
       "373                 9                       75             3   Overweight   \n",
       "\n",
       "    Blood Pressure  Heart Rate  Daily Steps Sleep Disorder  \n",
       "0           126/83          77         4200           None  \n",
       "1           125/80          75        10000           None  \n",
       "2           125/80          75        10000           None  \n",
       "3           140/90          85         3000    Sleep Apnea  \n",
       "4           140/90          85         3000    Sleep Apnea  \n",
       "..             ...         ...          ...            ...  \n",
       "369         140/95          68         7000    Sleep Apnea  \n",
       "370         140/95          68         7000    Sleep Apnea  \n",
       "371         140/95          68         7000    Sleep Apnea  \n",
       "372         140/95          68         7000    Sleep Apnea  \n",
       "373         140/95          68         7000    Sleep Apnea  \n",
       "\n",
       "[374 rows x 13 columns]"
      ]
     },
     "execution_count": 3,
     "metadata": {},
     "output_type": "execute_result"
    }
   ],
   "source": [
    "data = pd.read_csv('Sleep_health_and_lifestyle_dataset.csv')\n",
    "data"
   ]
  },
  {
   "cell_type": "markdown",
   "id": "bf92b429",
   "metadata": {},
   "source": [
    "______________________________________________________________________________________________________________________\n",
    "\n",
    "X Hypothesis: \n",
    "\n",
    "H0: There is no significant correlation between sleep duration and sleep disorder.\n",
    "\n",
    "H1: There is a significant correlation between sleep duration and sleep disorder.\n",
    "\n",
    "We definitely know that sleep durantion is negatively affected by sleep disorders, and that the presence of these disorders significantly decreases sleep quality\n"
   ]
  },
  {
   "cell_type": "markdown",
   "id": "420e95bf",
   "metadata": {},
   "source": [
    "______________________________________________________________________________________________________________________\n",
    "\n",
    "\n",
    "# Hypothesis: \n",
    "\n",
    "H0: There is no significant association between age and sleep quality.\n",
    "\n",
    "H1: Age is associated with sleep quality.\n",
    "\n",
    "√ Age > 40 better quality sleep?\n",
    "\n",
    "Age =< 40 worse quality sleep?\n",
    "\n",
    "Age 27-59\n",
    "\n",
    "Sleep Quality 0-10 AVG 5"
   ]
  },
  {
   "cell_type": "code",
   "execution_count": 8,
   "id": "043f51b4",
   "metadata": {},
   "outputs": [
    {
     "data": {
      "text/plain": [
       "0      27\n",
       "1      28\n",
       "2      28\n",
       "3      28\n",
       "4      28\n",
       "       ..\n",
       "359    59\n",
       "358    59\n",
       "372    59\n",
       "364    59\n",
       "373    59\n",
       "Name: Age, Length: 374, dtype: int64"
      ]
     },
     "execution_count": 8,
     "metadata": {},
     "output_type": "execute_result"
    }
   ],
   "source": [
    "data['Age'].sort_values()"
   ]
  },
  {
   "cell_type": "code",
   "execution_count": 96,
   "id": "2c7eb083",
   "metadata": {},
   "outputs": [],
   "source": [
    "alpha = 0.05\n",
    "\n",
    "age_above_40 = data[data['Age'] > 40]['Quality of Sleep']\n",
    "age_below_40 = data[data['Age'] <= 40]['Quality of Sleep']"
   ]
  },
  {
   "cell_type": "code",
   "execution_count": 97,
   "id": "6cec79e0",
   "metadata": {},
   "outputs": [],
   "source": [
    "t_stat, p_value = ttest_ind(age_above_40, age_below_40)"
   ]
  },
  {
   "cell_type": "code",
   "execution_count": 98,
   "id": "3d9cbb0c",
   "metadata": {},
   "outputs": [
    {
     "data": {
      "text/plain": [
       "0.0007276168884472843"
      ]
     },
     "execution_count": 98,
     "metadata": {},
     "output_type": "execute_result"
    }
   ],
   "source": [
    "p_value"
   ]
  },
  {
   "cell_type": "code",
   "execution_count": 99,
   "id": "dc6d00e4",
   "metadata": {},
   "outputs": [
    {
     "name": "stdout",
     "output_type": "stream",
     "text": [
      "Results of Two-Sample T-Test:\n",
      "People over 40 years of age have better sleep quality than those under 40 years of age.\n"
     ]
    }
   ],
   "source": [
    "print(\"Results of Two-Sample T-Test:\")\n",
    "if p_value < 0.05 and age_above_40.mean() > age_below_40.mean():\n",
    "    print(\"People over 40 years of age have better sleep quality than those under 40 years of age.\")\n",
    "elif p_value < 0.05 and age_above_40.mean() < age_below_40.mean():\n",
    "    print(\"People over 40 years of age have worse sleep quality than those under 40 years of age.\")\n",
    "else:\n",
    "    print(\"There is no significant difference in sleep quality between people over 40 years of age and those under 40 years of age.\")"
   ]
  },
  {
   "cell_type": "markdown",
   "id": "e71bf77f",
   "metadata": {},
   "source": [
    "______________________________________________________________________________________________________________________\n",
    "\n",
    "\n",
    "# Hypothesis: \n",
    "\n",
    "H0: There is no significant association between Physical Activity Level and sleep quality.\n",
    "\n",
    "H1: Physical Activity Level is associated with sleep quality.\n",
    "\n",
    "\n",
    "\n",
    "√ Higher physical activity level is associated with higher sleep quality\n",
    "\n",
    "Physical Activity 0-100\n",
    "\n",
    "Sleep Quality 0-10 "
   ]
  },
  {
   "cell_type": "code",
   "execution_count": 10,
   "id": "e0978127",
   "metadata": {},
   "outputs": [
    {
     "data": {
      "text/plain": [
       "73     30\n",
       "55     30\n",
       "54     30\n",
       "300    30\n",
       "52     30\n",
       "       ..\n",
       "281    90\n",
       "282    90\n",
       "283    90\n",
       "274    90\n",
       "288    90\n",
       "Name: Physical Activity Level, Length: 374, dtype: int64"
      ]
     },
     "execution_count": 10,
     "metadata": {},
     "output_type": "execute_result"
    }
   ],
   "source": [
    "data['Physical Activity Level'].sort_values()"
   ]
  },
  {
   "cell_type": "code",
   "execution_count": 12,
   "id": "68409e25",
   "metadata": {},
   "outputs": [
    {
     "data": {
      "text/plain": [
       "80     4\n",
       "3      4\n",
       "4      4\n",
       "5      4\n",
       "81     4\n",
       "      ..\n",
       "323    9\n",
       "322    9\n",
       "320    9\n",
       "337    9\n",
       "373    9\n",
       "Name: Quality of Sleep, Length: 374, dtype: int64"
      ]
     },
     "execution_count": 12,
     "metadata": {},
     "output_type": "execute_result"
    }
   ],
   "source": [
    "data['Quality of Sleep'].sort_values()"
   ]
  },
  {
   "cell_type": "code",
   "execution_count": 100,
   "id": "7ffe180a",
   "metadata": {},
   "outputs": [],
   "source": [
    "physical_activity = data['Physical Activity Level']\n",
    "sleep_quality = data['Quality of Sleep']"
   ]
  },
  {
   "cell_type": "code",
   "execution_count": 101,
   "id": "8bc461bc",
   "metadata": {},
   "outputs": [],
   "source": [
    "correlation, p_value = spearmanr(physical_activity, sleep_quality)"
   ]
  },
  {
   "cell_type": "code",
   "execution_count": 104,
   "id": "5fc65614",
   "metadata": {},
   "outputs": [
    {
     "name": "stdout",
     "output_type": "stream",
     "text": [
      "There is a positive association between Physical Activity Level and Sleep Quality.\n"
     ]
    }
   ],
   "source": [
    "if p_value < 0.05 and correlation > 0:\n",
    "    print(\"There is a positive association between Physical Activity Level and Sleep Quality.\")\n",
    "elif p_value < 0.05 and correlation < 0:\n",
    "    print(\"There is a negative association between Physical Activity Level and Sleep Quality.\")\n",
    "else:\n",
    "    print(\"There is no association between Physical Activity Level and Sleep Quality.\")"
   ]
  },
  {
   "cell_type": "markdown",
   "id": "02c2252c",
   "metadata": {},
   "source": [
    "______________________________________________________________________________________________________________________\n",
    "\n",
    "\n",
    "# Hypothesis: \n",
    "\n",
    "H0: There is no significant correlation of sleep disorders based on BMI category.\n",
    "\n",
    "H1: BMI category affects sleep disorders.\n",
    "\n",
    "Do overweight and obese people have more sleep disorders (Sleep Apnea/Isomnia) than people with normal BMI?\n",
    "\n",
    "BMI Categories: Normal, Overweight, Obese\n",
    "Sleep Disorders: None, Sleep Apnea, Insomnia"
   ]
  },
  {
   "cell_type": "code",
   "execution_count": 15,
   "id": "dee76a8b",
   "metadata": {},
   "outputs": [
    {
     "data": {
      "text/plain": [
       "Normal        216\n",
       "Overweight    148\n",
       "Obese          10\n",
       "Name: BMI Category, dtype: int64"
      ]
     },
     "execution_count": 15,
     "metadata": {},
     "output_type": "execute_result"
    }
   ],
   "source": [
    "data['BMI Category'].value_counts()"
   ]
  },
  {
   "cell_type": "code",
   "execution_count": 16,
   "id": "3b624ccb",
   "metadata": {},
   "outputs": [
    {
     "data": {
      "text/plain": [
       "None           219\n",
       "Sleep Apnea     78\n",
       "Insomnia        77\n",
       "Name: Sleep Disorder, dtype: int64"
      ]
     },
     "execution_count": 16,
     "metadata": {},
     "output_type": "execute_result"
    }
   ],
   "source": [
    "data['Sleep Disorder'].value_counts()"
   ]
  },
  {
   "cell_type": "code",
   "execution_count": 105,
   "id": "42f86e3d",
   "metadata": {},
   "outputs": [],
   "source": [
    "contingency_table = pd.crosstab(data['BMI Category'], data['Sleep Disorder'])"
   ]
  },
  {
   "cell_type": "code",
   "execution_count": 106,
   "id": "d181d085",
   "metadata": {},
   "outputs": [],
   "source": [
    "chi2, p_value, _, _ = chi2_contingency(contingency_table)"
   ]
  },
  {
   "cell_type": "code",
   "execution_count": 108,
   "id": "b5185220",
   "metadata": {},
   "outputs": [
    {
     "name": "stdout",
     "output_type": "stream",
     "text": [
      "There is an association between BMI category and sleep disorders.\n",
      "There is no clear pattern in sleep disorders based on BMI category.\n"
     ]
    }
   ],
   "source": [
    "if p_value < 0.05:\n",
    "    print(\"There is an association between BMI category and sleep disorders.\")\n",
    "    if contingency_table.at['Normal', 'Sleep Apnea'] > contingency_table.at['Overweight', 'Sleep Apnea'] and \\\n",
    "            contingency_table.at['Normal', 'Sleep Apnea'] > contingency_table.at['Obese', 'Sleep Apnea'] and \\\n",
    "            contingency_table.at['Normal', 'Insomnia'] > contingency_table.at['Overweight', 'Insomnia'] and \\\n",
    "            contingency_table.at['Normal', 'Insomnia'] > contingency_table.at['Obese', 'Insomnia']:\n",
    "        print(\"Normal BMI individuals have fewer sleep disorders than overweight and obese individuals.\")\n",
    "    else:\n",
    "        print(\"There is no clear pattern in sleep disorders based on BMI category.\")\n",
    "else:\n",
    "    print(\"There is no association between BMI category and sleep disorders.\")"
   ]
  },
  {
   "cell_type": "markdown",
   "id": "36f508e3",
   "metadata": {},
   "source": [
    "______________________________________________________________________________________________________________________\n",
    "\n",
    "\n",
    "# Hypothesis: \n",
    "\n",
    "H0: There is no significant correlation between stress level and sleep duration.\n",
    "\n",
    "H1: Stress level is negatively correlated with sleep duration.\n",
    "\n",
    "Sleep duration <= 6 hours raises stress levels\n",
    "Sleep duration > 6 hours lowers stress levels\n",
    "\n",
    "Sleep duration (in hours) 0-10 (min 5.8 hours/max 8.5 hours)\n",
    "\n",
    "Stress levels 0-10 (min 3/max 8)"
   ]
  },
  {
   "cell_type": "code",
   "execution_count": 18,
   "id": "75058a24",
   "metadata": {},
   "outputs": [
    {
     "data": {
      "text/plain": [
       "81     5.8\n",
       "80     5.8\n",
       "265    5.9\n",
       "3      5.9\n",
       "4      5.9\n",
       "      ... \n",
       "327    8.5\n",
       "330    8.5\n",
       "329    8.5\n",
       "338    8.5\n",
       "301    8.5\n",
       "Name: Sleep Duration, Length: 374, dtype: float64"
      ]
     },
     "execution_count": 18,
     "metadata": {},
     "output_type": "execute_result"
    }
   ],
   "source": [
    "data['Sleep Duration'].sort_values()"
   ]
  },
  {
   "cell_type": "code",
   "execution_count": 20,
   "id": "cabd5929",
   "metadata": {},
   "outputs": [
    {
     "data": {
      "text/plain": [
       "373    3\n",
       "322    3\n",
       "51     3\n",
       "50     3\n",
       "323    3\n",
       "      ..\n",
       "57     8\n",
       "58     8\n",
       "285    8\n",
       "52     8\n",
       "81     8\n",
       "Name: Stress Level, Length: 374, dtype: int64"
      ]
     },
     "execution_count": 20,
     "metadata": {},
     "output_type": "execute_result"
    }
   ],
   "source": [
    "data['Stress Level'].sort_values()"
   ]
  },
  {
   "cell_type": "code",
   "execution_count": 65,
   "id": "bef7f045",
   "metadata": {},
   "outputs": [],
   "source": [
    "sleep_duration = data['Sleep Duration']\n",
    "stress_levels = data['Stress Level']"
   ]
  },
  {
   "cell_type": "code",
   "execution_count": 71,
   "id": "065d9a31",
   "metadata": {},
   "outputs": [],
   "source": [
    "correlation, p_value = pearsonr(sleep_duration, stress_levels)"
   ]
  },
  {
   "cell_type": "code",
   "execution_count": 69,
   "id": "a4f82c36",
   "metadata": {},
   "outputs": [
    {
     "name": "stdout",
     "output_type": "stream",
     "text": [
      "There is a negative correlation between Stress Levels and Sleep Duration.\n",
      "Sleep duration of > 6 hours lowers stress levels.\n"
     ]
    }
   ],
   "source": [
    "if p_value < 0.05 and correlation < 0:\n",
    "    print(\"There is a negative correlation between Stress Levels and Sleep Duration.\")\n",
    "    if sleep_duration.mean() <= 6:\n",
    "        print(\"Sleep duration of <= 6 hours raises stress levels.\")\n",
    "    else:\n",
    "        print(\"Sleep duration of > 6 hours lowers stress levels.\")\n",
    "else:\n",
    "    print(\"There is no correlation between Stress Levels and Sleep Duration.\")"
   ]
  }
 ],
 "metadata": {
  "kernelspec": {
   "display_name": "Python 3 (ipykernel)",
   "language": "python",
   "name": "python3"
  },
  "language_info": {
   "codemirror_mode": {
    "name": "ipython",
    "version": 3
   },
   "file_extension": ".py",
   "mimetype": "text/x-python",
   "name": "python",
   "nbconvert_exporter": "python",
   "pygments_lexer": "ipython3",
   "version": "3.10.9"
  }
 },
 "nbformat": 4,
 "nbformat_minor": 5
}
